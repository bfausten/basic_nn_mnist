{
 "cells": [
  {
   "cell_type": "markdown",
   "id": "1312d6e0-28ad-4f01-a78c-cae43ecdcf01",
   "metadata": {},
   "source": [
    "## Imports"
   ]
  },
  {
   "cell_type": "code",
   "execution_count": 1,
   "id": "23de223f-6edc-40ab-a03f-c3e0a4881602",
   "metadata": {},
   "outputs": [],
   "source": [
    "import numpy as np\n",
    "import tensorflow.keras as tf # for mnist dataset\n",
    "import matplotlib.pyplot as plt"
   ]
  },
  {
   "cell_type": "markdown",
   "id": "3b13cb76-f7b4-4440-80db-a1599abafe76",
   "metadata": {},
   "source": [
    "## Dataset"
   ]
  },
  {
   "cell_type": "code",
   "execution_count": 2,
   "id": "a6bedc4a-4a6c-4aa7-b4d1-7bf3014646a8",
   "metadata": {},
   "outputs": [],
   "source": [
    "(train_images, train_labels),(test_images, test_labels) = tf.datasets.mnist.load_data() # loading dataset"
   ]
  },
  {
   "cell_type": "markdown",
   "id": "22851735-1c8c-45e7-89c4-317726b27135",
   "metadata": {},
   "source": [
    "## Assertion and reshaping"
   ]
  },
  {
   "cell_type": "code",
   "execution_count": 82,
   "id": "df485072-83aa-4d79-93fb-c053e5d9ff35",
   "metadata": {},
   "outputs": [],
   "source": [
    "train_images = train_images.reshape(60000, 784)\n",
    "train_images = train_images.T\n",
    "assert train_images.shape == (784, 60000)\n",
    "assert train_labels.shape == (60000, )\n",
    "\n",
    "test_images = test_images.reshape(10000, 784)\n",
    "test_images = test_images.T\n",
    "assert test_images.shape == (784, 10000)\n",
    "assert test_labels.shape == (10000,)"
   ]
  },
  {
   "cell_type": "markdown",
   "id": "a9097747-3530-49d7-8abf-6d4a4dde2357",
   "metadata": {},
   "source": [
    "## Some useful functions for later"
   ]
  },
  {
   "cell_type": "code",
   "execution_count": 83,
   "id": "528a5bb1-241f-4203-93e1-f3754c7dd175",
   "metadata": {},
   "outputs": [],
   "source": [
    "def init_params():\n",
    "    W1 = np.random.randn(128,784)\n",
    "    b1 = np.random.randn(128,1)\n",
    "    W2 = np.random.randn(10,128)\n",
    "    b2 = np.random.randn(10,1)\n",
    "    return W1, b1, W2, b2"
   ]
  },
  {
   "cell_type": "code",
   "execution_count": 5,
   "id": "7a151218-39d5-4f2c-8ebc-a788b558b9db",
   "metadata": {},
   "outputs": [],
   "source": [
    "def ReLU(x):\n",
    "    return np.maximum(x,0)"
   ]
  },
  {
   "cell_type": "code",
   "execution_count": 6,
   "id": "cd13f94e-4858-4aad-9158-cbcda41671e1",
   "metadata": {},
   "outputs": [],
   "source": [
    "def softmax(x):\n",
    "    exp_x = np.exp(x-np.max(x))\n",
    "    return exp_x / np.sum(exp_x)"
   ]
  },
  {
   "cell_type": "code",
   "execution_count": 7,
   "id": "7920f72f-843a-4446-a412-1dae63b98e78",
   "metadata": {},
   "outputs": [],
   "source": [
    "def ReLU_deriv(x):\n",
    "    return x > 0"
   ]
  },
  {
   "cell_type": "code",
   "execution_count": 53,
   "id": "ca0536e6-c124-414a-80f3-d5c94b810c80",
   "metadata": {},
   "outputs": [],
   "source": [
    "def one_hot_labels(labels):\n",
    "    return np.eye(10)[labels].T"
   ]
  },
  {
   "cell_type": "code",
   "execution_count": 9,
   "id": "58719781-b137-4b42-85de-6db2f530e5e8",
   "metadata": {},
   "outputs": [],
   "source": [
    "def update_params(W1, b1, W2, b2, dW1, db1, dW2, db2, learning_rate):\n",
    "    W1 = W1 + learning_rate * dW1\n",
    "    b1 = b1 + learning_rate * db1\n",
    "    W2 = W2 + learning_rate * dW2\n",
    "    b2 = b2 + learning_rate * db2\n",
    "    return W1, b1, W2, b2"
   ]
  },
  {
   "cell_type": "code",
   "execution_count": 10,
   "id": "0fbc63b1-ada1-4ebc-ac7a-ebee6a895be1",
   "metadata": {},
   "outputs": [],
   "source": [
    "def predict(output):\n",
    "    return np.argmax(output)"
   ]
  },
  {
   "cell_type": "code",
   "execution_count": 11,
   "id": "184b9ca2-00bb-4f81-bc81-e53d9eb4acc6",
   "metadata": {},
   "outputs": [],
   "source": [
    "def get_accuracy(output, training_input):\n",
    "    return np.sum(output == training_input) / training_input.size"
   ]
  },
  {
   "cell_type": "markdown",
   "id": "f6f05ae2-4141-45b9-a1e3-ccdf896f898e",
   "metadata": {},
   "source": [
    "## Propagation functions and gradient descent"
   ]
  },
  {
   "cell_type": "code",
   "execution_count": 51,
   "id": "619127b8-809e-49b7-85d2-5c582ab5f44d",
   "metadata": {},
   "outputs": [],
   "source": [
    "def forward_prop(x,W1,b1,W2,b2): # 2-layer-network with relu und softmax\n",
    "    Y1 = np.dot(W1, x) + b1\n",
    "    output_1 = ReLU(Y1)\n",
    "    Y2 = np.dot(W2, output_1) + b2\n",
    "    output = softmax(Y2)\n",
    "    return Y1, output_1, Y2, output"
   ]
  },
  {
   "cell_type": "code",
   "execution_count": 70,
   "id": "f2eefec9-0fbf-4b8d-920f-3e0bdd89d825",
   "metadata": {},
   "outputs": [],
   "source": [
    "def back_prop(x, training_input, Y1, output_1, Y2, output, W2):\n",
    "    n = training_input.size\n",
    "    one_hot_ti = one_hot_labels(training_input)\n",
    "    d_output = one_hot_ti - output\n",
    "    dW2 =1/n *  np.dot(d_output, output_1.T)\n",
    "    db2 = 1/n * np.sum(d_output)\n",
    "    d_output1 = ReLU_deriv(Y1) * np.dot(W2.T, d_output)\n",
    "    dW1 = 1/n * np.dot(d_output1, x.T)\n",
    "    db1 = 1/n * np.sum(d_output1)\n",
    "    return dW1, db1, dW2, db2"
   ]
  },
  {
   "cell_type": "code",
   "execution_count": 73,
   "id": "857cb331-c770-4a32-83c4-b858d2c187d2",
   "metadata": {},
   "outputs": [],
   "source": [
    "def gradient_descent(epochs, x, training_input, learning_rate):\n",
    "    W1, b1, W2, b2 = init_params()\n",
    "    for i in range(epochs-1):\n",
    "        Y1, output1, Y2, output = forward_prop(x, W1, b1, W2, b2)\n",
    "        dW1, db1, dW2, db2 = back_prop(x, training_input, Y1, output1, Y2, output, W2)\n",
    "        W1, b1, W2, b2 = update_params(W1, b1, W2, b2, dW1, db1, dW2, db2, learning_rate)\n",
    "        if i % 25 == 0:\n",
    "            print(f'iteration: {i}')\n",
    "            print(f'training accuracy: {get_accuracy(predict(output), training_input)}')\n",
    "    return W1, b1, W2, b2"
   ]
  },
  {
   "cell_type": "markdown",
   "id": "28b5b829-2039-42ba-8d7b-320e87f5ad7e",
   "metadata": {},
   "source": [
    "## Functions for testing"
   ]
  },
  {
   "cell_type": "code",
   "execution_count": 26,
   "id": "a76c821c-137e-453c-a600-3eef229627fc",
   "metadata": {},
   "outputs": [],
   "source": [
    "def show(idx, test_or_train='train'):\n",
    "    if test_or_train=='test':\n",
    "        plt.imshow(test_images[:, idx].reshape((28,28)))\n",
    "    else:\n",
    "        plt.imshow(train_images[:, idx].reshape((28,28)))"
   ]
  },
  {
   "cell_type": "code",
   "execution_count": 16,
   "id": "944eadcc-3132-4c88-87b6-256c756f4555",
   "metadata": {},
   "outputs": [],
   "source": [
    "def test_accuracy(W1, b1, W2, b2):\n",
    "    _, _, _, output = forward_prop(test_images, W1, b1, W2, b2)\n",
    "    predictions = predict(output)\n",
    "    return np.sum(predictions == test_labels) / test_labels.size"
   ]
  },
  {
   "cell_type": "code",
   "execution_count": 80,
   "id": "48387b93-10fb-4a50-bc66-bbf98da29307",
   "metadata": {},
   "outputs": [],
   "source": [
    "def test(test_idx, W1, b1, W2, b2):\n",
    "    _, _, _, output = forward_prop(test_images[:, test_idx], W1, b1, W2, b2)\n",
    "    print(f'prediction: {prediction}')\n",
    "    print(f'label: {test_labels[test_idx]}')\n",
    "    show(test_idx, 'test')"
   ]
  },
  {
   "cell_type": "markdown",
   "id": "6aa1a860-43a4-45b6-bb56-684611400015",
   "metadata": {},
   "source": [
    "## Running"
   ]
  },
  {
   "cell_type": "code",
   "execution_count": 72,
   "id": "4c69ead2-2448-4c15-aca4-b24f1102a40f",
   "metadata": {},
   "outputs": [
    {
     "name": "stdout",
     "output_type": "stream",
     "text": [
      "iteration: 1\n",
      "training accuracy: 0.0\n",
      "iteration: 26\n",
      "training accuracy: 0.0\n",
      "iteration: 51\n",
      "training accuracy: 0.0\n",
      "iteration: 76\n",
      "training accuracy: 0.0\n"
     ]
    },
    {
     "name": "stderr",
     "output_type": "stream",
     "text": [
      "C:\\Users\\Benfa\\AppData\\Local\\Temp\\ipykernel_5368\\1690286192.py:2: RuntimeWarning: invalid value encountered in subtract\n",
      "  exp_x = np.exp(x-np.max(x))\n"
     ]
    },
    {
     "name": "stdout",
     "output_type": "stream",
     "text": [
      "iteration: 101\n",
      "training accuracy: 0.09871666666666666\n",
      "iteration: 126\n",
      "training accuracy: 0.09871666666666666\n",
      "iteration: 151\n",
      "training accuracy: 0.09871666666666666\n",
      "iteration: 176\n",
      "training accuracy: 0.09871666666666666\n"
     ]
    }
   ],
   "source": [
    "W1, b1, W2, b2 = gradient_descent(200, train_images, train_labels, 0.2)"
   ]
  },
  {
   "cell_type": "code",
   "execution_count": 75,
   "id": "2dc93407-2dbd-4094-85f0-5c8f36dbca0f",
   "metadata": {},
   "outputs": [
    {
     "name": "stdout",
     "output_type": "stream",
     "text": [
      "0.098\n"
     ]
    }
   ],
   "source": [
    "print(test_accuracy(W1, b1, W2, b2))"
   ]
  },
  {
   "cell_type": "code",
   "execution_count": 79,
   "id": "388e4dbc-2e9f-4aeb-aa15-2feedb8c6804",
   "metadata": {},
   "outputs": [
    {
     "name": "stdout",
     "output_type": "stream",
     "text": [
      "(10, 128)\n",
      "prediction: 0\n",
      "label: 7\n"
     ]
    },
    {
     "data": {
      "image/png": "[encoded data removed]",
      "text/plain": [
       "<Figure size 640x480 with 1 Axes>"
      ]
     },
     "metadata": {},
     "output_type": "display_data"
    }
   ],
   "source": [
    "test(0, W1, b1, W2, b2)"
   ]
  }
 ],
 "metadata": {
  "kernelspec": {
   "display_name": "Python 3 (ipykernel) test3env",
   "language": "python",
   "name": "python3"
  },
  "language_info": {
   "codemirror_mode": {
    "name": "ipython",
    "version": 3
   },
   "file_extension": ".py",
   "mimetype": "text/x-python",
   "name": "python",
   "nbconvert_exporter": "python",
   "pygments_lexer": "ipython3",
   "version": "3.10.13"
  }
 },
 "nbformat": 4,
 "nbformat_minor": 5
}
