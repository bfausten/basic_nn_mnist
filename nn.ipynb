{
 "cells": [
  {
   "cell_type": "markdown",
   "id": "1312d6e0-28ad-4f01-a78c-cae43ecdcf01",
   "metadata": {},
   "source": [
    "## Imports"
   ]
  },
  {
   "cell_type": "code",
   "execution_count": 1,
   "id": "23de223f-6edc-40ab-a03f-c3e0a4881602",
   "metadata": {},
   "outputs": [],
   "source": [
    "import numpy as np\n",
    "import tensorflow.keras as tf # for mnist dataset\n",
    "import matplotlib.pyplot as plt"
   ]
  },
  {
   "cell_type": "markdown",
   "id": "3b13cb76-f7b4-4440-80db-a1599abafe76",
   "metadata": {},
   "source": [
    "## Dataset"
   ]
  },
  {
   "cell_type": "code",
   "execution_count": 2,
   "id": "a6bedc4a-4a6c-4aa7-b4d1-7bf3014646a8",
   "metadata": {},
   "outputs": [],
   "source": [
    "(train_images, train_labels),(test_images, test_labels) = tf.datasets.mnist.load_data() # loading dataset"
   ]
  },
  {
   "cell_type": "markdown",
   "id": "22851735-1c8c-45e7-89c4-317726b27135",
   "metadata": {},
   "source": [
    "## Assertation"
   ]
  },
  {
   "cell_type": "code",
   "execution_count": 3,
   "id": "df485072-83aa-4d79-93fb-c053e5d9ff35",
   "metadata": {},
   "outputs": [],
   "source": [
    "assert train_images.shape == (60000, 28, 28)\n",
    "assert train_labels.shape == (60000, )\n",
    "assert test_images.shape == (10000, 28, 28)\n",
    "assert test_labels.shape == (10000,)"
   ]
  },
  {
   "cell_type": "markdown",
   "id": "a9097747-3530-49d7-8abf-6d4a4dde2357",
   "metadata": {},
   "source": [
    "## Some useful functions for later"
   ]
  },
  {
   "cell_type": "code",
   "execution_count": 4,
   "id": "7a151218-39d5-4f2c-8ebc-a788b558b9db",
   "metadata": {},
   "outputs": [],
   "source": [
    "def ReLU(x):\n",
    "    return np.maximum(x,0)"
   ]
  },
  {
   "cell_type": "code",
   "execution_count": 5,
   "id": "cd13f94e-4858-4aad-9158-cbcda41671e1",
   "metadata": {},
   "outputs": [],
   "source": [
    "def softmax(x):\n",
    "    exp_x = np.exp(x-np.max(x))\n",
    "    return exp_x / np.sum(exp_x)"
   ]
  },
  {
   "cell_type": "code",
   "execution_count": 6,
   "id": "7920f72f-843a-4446-a412-1dae63b98e78",
   "metadata": {},
   "outputs": [],
   "source": [
    "def ReLU_deriv(x):\n",
    "    return np.where(x>0,1,0)"
   ]
  },
  {
   "cell_type": "code",
   "execution_count": 10,
   "id": "619127b8-809e-49b7-85d2-5c582ab5f44d",
   "metadata": {},
   "outputs": [],
   "source": [
    "def forward_propagation(x,W1,W2,b1,b2): # 2-layer-network with relu und softmax\n",
    "    return softmax(np.dot(W2, ReLU(np.dot(W1, x) + b1)) + b2)"
   ]
  },
  {
   "cell_type": "code",
   "execution_count": 11,
   "id": "13377889-2e31-446a-b1f2-b1b0a50caced",
   "metadata": {},
   "outputs": [
    {
     "data": {
      "text/plain": [
       "array([0., 0., 0., 0., 0., 0., 0., 0., 0., 1.])"
      ]
     },
     "execution_count": 11,
     "metadata": {},
     "output_type": "execute_result"
    }
   ],
   "source": [
    "x = train_images[0].flatten()\n",
    "W1 = np.random.randn(128,784)\n",
    "W2 = np.random.randn(10,128)\n",
    "b1 = np.random.randn(128,)\n",
    "b2 = np.random.randn(10,)\n",
    "forward_propagation(x,W1,W2,b1,b2)"
   ]
  }
 ],
 "metadata": {
  "kernelspec": {
   "display_name": "Python 3 (ipykernel) test3env",
   "language": "python",
   "name": "python3"
  },
  "language_info": {
   "codemirror_mode": {
    "name": "ipython",
    "version": 3
   },
   "file_extension": ".py",
   "mimetype": "text/x-python",
   "name": "python",
   "nbconvert_exporter": "python",
   "pygments_lexer": "ipython3",
   "version": "3.10.13"
  }
 },
 "nbformat": 4,
 "nbformat_minor": 5
}
