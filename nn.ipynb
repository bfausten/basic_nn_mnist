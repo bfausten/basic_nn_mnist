{
 "cells": [
  {
   "cell_type": "markdown",
   "id": "1312d6e0-28ad-4f01-a78c-cae43ecdcf01",
   "metadata": {},
   "source": [
    "## Imports"
   ]
  },
  {
   "cell_type": "code",
   "execution_count": 1,
   "id": "23de223f-6edc-40ab-a03f-c3e0a4881602",
   "metadata": {},
   "outputs": [],
   "source": [
    "import numpy as np\n",
    "import tensorflow.keras as tf # for mnist dataset\n",
    "import matplotlib.pyplot as plt"
   ]
  },
  {
   "cell_type": "markdown",
   "id": "3b13cb76-f7b4-4440-80db-a1599abafe76",
   "metadata": {},
   "source": [
    "## Dataset"
   ]
  },
  {
   "cell_type": "code",
   "execution_count": 2,
   "id": "a6bedc4a-4a6c-4aa7-b4d1-7bf3014646a8",
   "metadata": {},
   "outputs": [],
   "source": [
    "(train_images, train_labels),(test_images, test_labels) = tf.datasets.mnist.load_data() # loading dataset"
   ]
  },
  {
   "cell_type": "markdown",
   "id": "22851735-1c8c-45e7-89c4-317726b27135",
   "metadata": {},
   "source": [
    "## Assertion and reshaping"
   ]
  },
  {
   "cell_type": "code",
   "execution_count": 3,
   "id": "df485072-83aa-4d79-93fb-c053e5d9ff35",
   "metadata": {},
   "outputs": [],
   "source": [
    "train_images = train_images.reshape(60000, 784)\n",
    "train_images = train_images.T\n",
    "train_images = train_images / 255\n",
    "assert train_images.shape == (784, 60000)\n",
    "assert train_labels.shape == (60000, )\n",
    "\n",
    "test_images = test_images.reshape(10000, 784)\n",
    "test_images = test_images.T\n",
    "test_images = test_images / 255\n",
    "assert test_images.shape == (784, 10000)\n",
    "assert test_labels.shape == (10000,)"
   ]
  },
  {
   "cell_type": "markdown",
   "id": "a9097747-3530-49d7-8abf-6d4a4dde2357",
   "metadata": {},
   "source": [
    "## Some useful functions for later"
   ]
  },
  {
   "cell_type": "code",
   "execution_count": 4,
   "id": "528a5bb1-241f-4203-93e1-f3754c7dd175",
   "metadata": {},
   "outputs": [],
   "source": [
    "def init_params():\n",
    "    W1 = np.random.randn(128,784)\n",
    "    b1 = np.random.randn(128,1)\n",
    "    W2 = np.random.randn(10,128)\n",
    "    b2 = np.random.randn(10,1)\n",
    "    return W1, b1, W2, b2"
   ]
  },
  {
   "cell_type": "code",
   "execution_count": 5,
   "id": "7a151218-39d5-4f2c-8ebc-a788b558b9db",
   "metadata": {},
   "outputs": [],
   "source": [
    "def ReLU(x):\n",
    "    return np.maximum(x,0)"
   ]
  },
  {
   "cell_type": "code",
   "execution_count": 6,
   "id": "cd13f94e-4858-4aad-9158-cbcda41671e1",
   "metadata": {},
   "outputs": [],
   "source": [
    "def softmax(x):\n",
    "    exp_x = np.exp(x-np.max(x))\n",
    "    return exp_x / np.sum(exp_x)"
   ]
  },
  {
   "cell_type": "code",
   "execution_count": 7,
   "id": "7920f72f-843a-4446-a412-1dae63b98e78",
   "metadata": {},
   "outputs": [],
   "source": [
    "def ReLU_deriv(x):\n",
    "    return x > 0"
   ]
  },
  {
   "cell_type": "code",
   "execution_count": 8,
   "id": "ca0536e6-c124-414a-80f3-d5c94b810c80",
   "metadata": {},
   "outputs": [],
   "source": [
    "def one_hot_labels(labels):\n",
    "    one_hot = np.zeros((labels.size,10))\n",
    "    one_hot[np.arange(labels.size), labels] = 1\n",
    "    one_hot = one_hot.T\n",
    "    return one_hot"
   ]
  },
  {
   "cell_type": "code",
   "execution_count": 9,
   "id": "58719781-b137-4b42-85de-6db2f530e5e8",
   "metadata": {},
   "outputs": [],
   "source": [
    "def update_params(W1, b1, W2, b2, dW1, db1, dW2, db2, learning_rate):\n",
    "    W1 = W1 - learning_rate * dW1\n",
    "    b1 = b1 - learning_rate * db1\n",
    "    W2 = W2 - learning_rate * dW2\n",
    "    b2 = b2 - learning_rate * db2\n",
    "    return W1, b1, W2, b2"
   ]
  },
  {
   "cell_type": "code",
   "execution_count": 10,
   "id": "0fbc63b1-ada1-4ebc-ac7a-ebee6a895be1",
   "metadata": {},
   "outputs": [],
   "source": [
    "def predict(output):\n",
    "    return np.argmax(output)"
   ]
  },
  {
   "cell_type": "code",
   "execution_count": 11,
   "id": "184b9ca2-00bb-4f81-bc81-e53d9eb4acc6",
   "metadata": {},
   "outputs": [],
   "source": [
    "def get_accuracy(output, training_input):\n",
    "    return np.sum(output == training_input) / training_input.size"
   ]
  },
  {
   "cell_type": "markdown",
   "id": "f6f05ae2-4141-45b9-a1e3-ccdf896f898e",
   "metadata": {},
   "source": [
    "## Propagation functions and gradient descent"
   ]
  },
  {
   "cell_type": "code",
   "execution_count": 12,
   "id": "619127b8-809e-49b7-85d2-5c582ab5f44d",
   "metadata": {},
   "outputs": [],
   "source": [
    "def forward_prop(x,W1,b1,W2,b2): # 2-layer-network with relu und softmax\n",
    "    Y1 = W1.dot(x) + b1\n",
    "    output_1 = ReLU(Y1)\n",
    "    Y2 = W2.dot(output_1) + b2\n",
    "    output = softmax(Y2)\n",
    "    return Y1, output_1, Y2, output"
   ]
  },
  {
   "cell_type": "code",
   "execution_count": 13,
   "id": "f2eefec9-0fbf-4b8d-920f-3e0bdd89d825",
   "metadata": {},
   "outputs": [],
   "source": [
    "def back_prop(x, training_input, Y1, output_1, Y2, output, W2):\n",
    "    n = training_input.size\n",
    "    one_hot_ti = one_hot_labels(training_input)\n",
    "    d_output = output - one_hot_ti\n",
    "    dW2 =1/n *  d_output.dot(output_1.T)\n",
    "    db2 = 1/n * np.sum(d_output)\n",
    "    d_output1 = W2.T.dot(d_output) * ReLU_deriv(Y1)\n",
    "    dW1 = 1/n * d_output1.dot(x.T)\n",
    "    db1 = 1/n * np.sum(d_output1)\n",
    "    return dW1, db1, dW2, db2"
   ]
  },
  {
   "cell_type": "code",
   "execution_count": 14,
   "id": "857cb331-c770-4a32-83c4-b858d2c187d2",
   "metadata": {},
   "outputs": [],
   "source": [
    "def gradient_descent(epochs, x, training_input, learning_rate):\n",
    "    W1, b1, W2, b2 = init_params()\n",
    "    for i in range(epochs-1):\n",
    "        Y1, output1, Y2, output = forward_prop(x, W1, b1, W2, b2)\n",
    "        dW1, db1, dW2, db2 = back_prop(x, training_input, Y1, output1, Y2, output, W2)\n",
    "        W1, b1, W2, b2 = update_params(W1, b1, W2, b2, dW1, db1, dW2, db2, learning_rate)\n",
    "        if i % 25 == 0:\n",
    "            print(f'iteration: {i}')\n",
    "            print(f'training accuracy: {get_accuracy(predict(output), training_input)}')\n",
    "    return W1, b1, W2, b2"
   ]
  },
  {
   "cell_type": "markdown",
   "id": "28b5b829-2039-42ba-8d7b-320e87f5ad7e",
   "metadata": {},
   "source": [
    "## Functions for testing"
   ]
  },
  {
   "cell_type": "code",
   "execution_count": 15,
   "id": "a76c821c-137e-453c-a600-3eef229627fc",
   "metadata": {},
   "outputs": [],
   "source": [
    "def show(idx, test_or_train='train'):\n",
    "    if test_or_train=='test':\n",
    "        plt.imshow(test_images[:, idx].reshape((28,28)))\n",
    "    else:\n",
    "        plt.imshow(train_images[:, idx].reshape((28,28)))"
   ]
  },
  {
   "cell_type": "code",
   "execution_count": 16,
   "id": "944eadcc-3132-4c88-87b6-256c756f4555",
   "metadata": {},
   "outputs": [],
   "source": [
    "def test_accuracy(W1, b1, W2, b2):\n",
    "    _, _, _, output = forward_prop(test_images, W1, b1, W2, b2)\n",
    "    predictions = predict(output)\n",
    "    return np.sum(predictions == test_labels) / test_labels.size"
   ]
  },
  {
   "cell_type": "code",
   "execution_count": 17,
   "id": "48387b93-10fb-4a50-bc66-bbf98da29307",
   "metadata": {},
   "outputs": [],
   "source": [
    "def test(test_idx, W1, b1, W2, b2):\n",
    "    _, _, _, output = forward_prop(test_images[:, test_idx], W1, b1, W2, b2)\n",
    "    print(output)\n",
    "    print(output.shape)\n",
    "    print(f'prediction: {predict(output)}')\n",
    "    print(f'label: {test_labels[test_idx]}')\n",
    "    show(test_idx, 'test')"
   ]
  },
  {
   "cell_type": "markdown",
   "id": "6aa1a860-43a4-45b6-bb56-684611400015",
   "metadata": {},
   "source": [
    "## Running"
   ]
  },
  {
   "cell_type": "code",
   "execution_count": 21,
   "id": "4c69ead2-2448-4c15-aca4-b24f1102a40f",
   "metadata": {},
   "outputs": [
    {
     "ename": "KeyboardInterrupt",
     "evalue": "",
     "output_type": "error",
     "traceback": [
      "\u001b[1;31m---------------------------------------------------------------------------\u001b[0m",
      "\u001b[1;31mKeyboardInterrupt\u001b[0m                         Traceback (most recent call last)",
      "Cell \u001b[1;32mIn[21], line 1\u001b[0m\n\u001b[1;32m----> 1\u001b[0m W1, b1, W2, b2 \u001b[38;5;241m=\u001b[39m \u001b[43mgradient_descent\u001b[49m\u001b[43m(\u001b[49m\u001b[38;5;241;43m100\u001b[39;49m\u001b[43m,\u001b[49m\u001b[43m \u001b[49m\u001b[43mtrain_images\u001b[49m\u001b[43m,\u001b[49m\u001b[43m \u001b[49m\u001b[43mtrain_labels\u001b[49m\u001b[43m,\u001b[49m\u001b[43m \u001b[49m\u001b[38;5;241;43m0.02\u001b[39;49m\u001b[43m)\u001b[49m\n",
      "Cell \u001b[1;32mIn[14], line 5\u001b[0m, in \u001b[0;36mgradient_descent\u001b[1;34m(epochs, x, training_input, learning_rate)\u001b[0m\n\u001b[0;32m      3\u001b[0m \u001b[38;5;28;01mfor\u001b[39;00m i \u001b[38;5;129;01min\u001b[39;00m \u001b[38;5;28mrange\u001b[39m(epochs\u001b[38;5;241m-\u001b[39m\u001b[38;5;241m1\u001b[39m):\n\u001b[0;32m      4\u001b[0m     Y1, output1, Y2, output \u001b[38;5;241m=\u001b[39m forward_prop(x, W1, b1, W2, b2)\n\u001b[1;32m----> 5\u001b[0m     dW1, db1, dW2, db2 \u001b[38;5;241m=\u001b[39m \u001b[43mback_prop\u001b[49m(x, training_input, Y1, output1, Y2, output, W2)\n\u001b[0;32m      6\u001b[0m     W1, b1, W2, b2 \u001b[38;5;241m=\u001b[39m update_params(W1, b1, W2, b2, dW1, db1, dW2, db2, learning_rate)\n\u001b[0;32m      7\u001b[0m     \u001b[38;5;28;01mif\u001b[39;00m i \u001b[38;5;241m%\u001b[39m \u001b[38;5;241m25\u001b[39m \u001b[38;5;241m==\u001b[39m \u001b[38;5;241m0\u001b[39m:\n",
      "Cell \u001b[1;32mIn[14], line 5\u001b[0m, in \u001b[0;36mgradient_descent\u001b[1;34m(epochs, x, training_input, learning_rate)\u001b[0m\n\u001b[0;32m      3\u001b[0m \u001b[38;5;28;01mfor\u001b[39;00m i \u001b[38;5;129;01min\u001b[39;00m \u001b[38;5;28mrange\u001b[39m(epochs\u001b[38;5;241m-\u001b[39m\u001b[38;5;241m1\u001b[39m):\n\u001b[0;32m      4\u001b[0m     Y1, output1, Y2, output \u001b[38;5;241m=\u001b[39m forward_prop(x, W1, b1, W2, b2)\n\u001b[1;32m----> 5\u001b[0m     dW1, db1, dW2, db2 \u001b[38;5;241m=\u001b[39m \u001b[43mback_prop\u001b[49m(x, training_input, Y1, output1, Y2, output, W2)\n\u001b[0;32m      6\u001b[0m     W1, b1, W2, b2 \u001b[38;5;241m=\u001b[39m update_params(W1, b1, W2, b2, dW1, db1, dW2, db2, learning_rate)\n\u001b[0;32m      7\u001b[0m     \u001b[38;5;28;01mif\u001b[39;00m i \u001b[38;5;241m%\u001b[39m \u001b[38;5;241m25\u001b[39m \u001b[38;5;241m==\u001b[39m \u001b[38;5;241m0\u001b[39m:\n",
      "File \u001b[1;32m_pydevd_bundle/pydevd_cython.pyx:1600\u001b[0m, in \u001b[0;36m_pydevd_bundle.pydevd_cython.trace_dispatch\u001b[1;34m()\u001b[0m\n",
      "File \u001b[1;32m_pydevd_bundle/pydevd_cython.pyx:1457\u001b[0m, in \u001b[0;36m_pydevd_bundle.pydevd_cython.SafeCallWrapper.__call__\u001b[1;34m()\u001b[0m\n",
      "File \u001b[1;32m_pydevd_bundle/pydevd_cython.pyx:1834\u001b[0m, in \u001b[0;36m_pydevd_bundle.pydevd_cython.ThreadTracer.__call__\u001b[1;34m()\u001b[0m\n",
      "File \u001b[1;32m_pydevd_bundle/pydevd_cython.pyx:1395\u001b[0m, in \u001b[0;36m_pydevd_bundle.pydevd_cython.PyDBFrame.trace_dispatch\u001b[1;34m()\u001b[0m\n",
      "File \u001b[1;32m_pydevd_bundle/pydevd_cython.pyx:1344\u001b[0m, in \u001b[0;36m_pydevd_bundle.pydevd_cython.PyDBFrame.trace_dispatch\u001b[1;34m()\u001b[0m\n",
      "File \u001b[1;32m_pydevd_bundle/pydevd_cython.pyx:312\u001b[0m, in \u001b[0;36m_pydevd_bundle.pydevd_cython.PyDBFrame.do_wait_suspend\u001b[1;34m()\u001b[0m\n",
      "File \u001b[1;32m~\\miniconda3\\envs\\test3\\lib\\site-packages\\debugpy\\_vendored\\pydevd\\pydevd.py:2070\u001b[0m, in \u001b[0;36mPyDB.do_wait_suspend\u001b[1;34m(self, thread, frame, event, arg, exception_type)\u001b[0m\n\u001b[0;32m   2067\u001b[0m             from_this_thread\u001b[38;5;241m.\u001b[39mappend(frame_custom_thread_id)\n\u001b[0;32m   2069\u001b[0m     \u001b[38;5;28;01mwith\u001b[39;00m \u001b[38;5;28mself\u001b[39m\u001b[38;5;241m.\u001b[39m_threads_suspended_single_notification\u001b[38;5;241m.\u001b[39mnotify_thread_suspended(thread_id, thread, stop_reason):\n\u001b[1;32m-> 2070\u001b[0m         keep_suspended \u001b[38;5;241m=\u001b[39m \u001b[38;5;28;43mself\u001b[39;49m\u001b[38;5;241;43m.\u001b[39;49m\u001b[43m_do_wait_suspend\u001b[49m\u001b[43m(\u001b[49m\u001b[43mthread\u001b[49m\u001b[43m,\u001b[49m\u001b[43m \u001b[49m\u001b[43mframe\u001b[49m\u001b[43m,\u001b[49m\u001b[43m \u001b[49m\u001b[43mevent\u001b[49m\u001b[43m,\u001b[49m\u001b[43m \u001b[49m\u001b[43marg\u001b[49m\u001b[43m,\u001b[49m\u001b[43m \u001b[49m\u001b[43msuspend_type\u001b[49m\u001b[43m,\u001b[49m\u001b[43m \u001b[49m\u001b[43mfrom_this_thread\u001b[49m\u001b[43m,\u001b[49m\u001b[43m \u001b[49m\u001b[43mframes_tracker\u001b[49m\u001b[43m)\u001b[49m\n\u001b[0;32m   2072\u001b[0m frames_list \u001b[38;5;241m=\u001b[39m \u001b[38;5;28;01mNone\u001b[39;00m\n\u001b[0;32m   2074\u001b[0m \u001b[38;5;28;01mif\u001b[39;00m keep_suspended:\n\u001b[0;32m   2075\u001b[0m     \u001b[38;5;66;03m# This means that we should pause again after a set next statement.\u001b[39;00m\n",
      "File \u001b[1;32m~\\miniconda3\\envs\\test3\\lib\\site-packages\\debugpy\\_vendored\\pydevd\\pydevd.py:2106\u001b[0m, in \u001b[0;36mPyDB._do_wait_suspend\u001b[1;34m(self, thread, frame, event, arg, suspend_type, from_this_thread, frames_tracker)\u001b[0m\n\u001b[0;32m   2103\u001b[0m         \u001b[38;5;28mself\u001b[39m\u001b[38;5;241m.\u001b[39m_call_input_hook()\n\u001b[0;32m   2105\u001b[0m     \u001b[38;5;28mself\u001b[39m\u001b[38;5;241m.\u001b[39mprocess_internal_commands()\n\u001b[1;32m-> 2106\u001b[0m     \u001b[43mtime\u001b[49m\u001b[38;5;241;43m.\u001b[39;49m\u001b[43msleep\u001b[49m\u001b[43m(\u001b[49m\u001b[38;5;241;43m0.01\u001b[39;49m\u001b[43m)\u001b[49m\n\u001b[0;32m   2108\u001b[0m \u001b[38;5;28mself\u001b[39m\u001b[38;5;241m.\u001b[39mcancel_async_evaluation(get_current_thread_id(thread), \u001b[38;5;28mstr\u001b[39m(\u001b[38;5;28mid\u001b[39m(frame)))\n\u001b[0;32m   2110\u001b[0m \u001b[38;5;66;03m# process any stepping instructions\u001b[39;00m\n",
      "\u001b[1;31mKeyboardInterrupt\u001b[0m: "
     ]
    }
   ],
   "source": [
    "W1, b1, W2, b2 = gradient_descent(100, train_images, train_labels, 0.02)"
   ]
  },
  {
   "cell_type": "code",
   "execution_count": 19,
   "id": "2dc93407-2dbd-4094-85f0-5c8f36dbca0f",
   "metadata": {},
   "outputs": [
    {
     "name": "stdout",
     "output_type": "stream",
     "text": [
      "0.0\n"
     ]
    }
   ],
   "source": [
    "print(test_accuracy(W1, b1, W2, b2))"
   ]
  },
  {
   "cell_type": "code",
   "execution_count": 20,
   "id": "388e4dbc-2e9f-4aeb-aa15-2feedb8c6804",
   "metadata": {},
   "outputs": [
    {
     "name": "stdout",
     "output_type": "stream",
     "text": [
      "[[0. 0. 0. ... 0. 0. 0.]\n",
      " [0. 0. 0. ... 0. 0. 0.]\n",
      " [0. 0. 0. ... 0. 0. 0.]\n",
      " ...\n",
      " [0. 0. 0. ... 0. 0. 0.]\n",
      " [0. 0. 0. ... 0. 0. 0.]\n",
      " [0. 0. 0. ... 0. 0. 0.]]\n",
      "(10, 128)\n",
      "prediction: 199\n",
      "label: 2\n"
     ]
    },
    {
     "data": {
      "image/png": "[encoded data removed]",
      "text/plain": [
       "<Figure size 640x480 with 1 Axes>"
      ]
     },
     "metadata": {},
     "output_type": "display_data"
    }
   ],
   "source": [
    "test(1, W1, b1, W2, b2)"
   ]
  }
 ],
 "metadata": {
  "kernelspec": {
   "display_name": "Python 3 (ipykernel) test3env",
   "language": "python",
   "name": "python3"
  },
  "language_info": {
   "codemirror_mode": {
    "name": "ipython",
    "version": 3
   },
   "file_extension": ".py",
   "mimetype": "text/x-python",
   "name": "python",
   "nbconvert_exporter": "python",
   "pygments_lexer": "ipython3",
   "version": "3.10.13"
  }
 },
 "nbformat": 4,
 "nbformat_minor": 5
}
